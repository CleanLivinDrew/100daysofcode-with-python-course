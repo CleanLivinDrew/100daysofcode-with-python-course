{
 "cells": [
  {
   "cell_type": "code",
   "execution_count": 154,
   "metadata": {},
   "outputs": [],
   "source": [
    "from collections import defaultdict, namedtuple, Counter, deque\n",
    "import csv"
   ]
  },
  {
   "cell_type": "markdown",
   "metadata": {},
   "source": [
    "#### Select the file to process. Create the namedtuple that will hold each line item. Set the names of the fields in the text file"
   ]
  },
  {
   "cell_type": "code",
   "execution_count": 155,
   "metadata": {},
   "outputs": [],
   "source": [
    "invoice_data = \"276927.txt\"\n",
    "\n",
    "line_item = namedtuple('line_item', 'invoice testtype cost desc rco adient')\n",
    "\n",
    "fields = ('invoice', 'testtype', 'cost', 'desc')"
   ]
  },
  {
   "cell_type": "markdown",
   "metadata": {},
   "source": [
    "#### Function to read in the text file, sort through line by line, extract each line into a lineitem object, then create the dict that holds the items by testtype"
   ]
  },
  {
   "cell_type": "code",
   "execution_count": 156,
   "metadata": {},
   "outputs": [],
   "source": [
    "def get_line_by_job(data = invoice_data):\n",
    "    items = defaultdict(list)\n",
    "    with open(data, encoding='utf-8') as f:\n",
    "        reader = csv.DictReader(f, fieldnames=fields, delimiter='\\t')\n",
    "        for line in reader:\n",
    "            try:\n",
    "                invoice = line['invoice']\n",
    "                testtype = line['testtype']\n",
    "                cost = float(line['cost'])\n",
    "                desc = line['desc'].split(',')[1]\n",
    "                job = line['desc'].split(',')[2]\n",
    "                adient = line['desc'].split(',')[0]\n",
    "            except ValueError:\n",
    "                continue\n",
    "            l = line_item(invoice= invoice, testtype= testtype, cost= cost, desc= desc, rco= job, adient= adient)\n",
    "            items[testtype].append(l)\n",
    "            \n",
    "    return items"
   ]
  },
  {
   "cell_type": "markdown",
   "metadata": {},
   "source": [
    "#### Run the function"
   ]
  },
  {
   "cell_type": "code",
   "execution_count": 157,
   "metadata": {},
   "outputs": [],
   "source": [
    "all_items = get_line_by_job()"
   ]
  },
  {
   "cell_type": "markdown",
   "metadata": {},
   "source": [
    "#### Display the list of items associated with a testtype"
   ]
  },
  {
   "cell_type": "code",
   "execution_count": 158,
   "metadata": {},
   "outputs": [
    {
     "data": {
      "text/plain": [
       "[line_item(invoice='32.12522-TE.002.03.02', testtype='PV Testing', cost=716.17, desc=' S/B Abusive Load', rco=' 929780', adient='10226096'),\n",
       " line_item(invoice='32.12522-TE.003.08.02', testtype='PV Testing', cost=1354.78, desc=' General Static Load', rco=' 929838', adient='10233126-1'),\n",
       " line_item(invoice='32.12522-TE.003.08.02', testtype='PV Testing', cost=4718.56, desc=' Child Restraint Anchorages', rco=' 929846', adient='10225665'),\n",
       " line_item(invoice='32.12522-TE.003.07.02', testtype='PV Testing', cost=638.02, desc=' Seat Anchorage Strength', rco=' 929877', adient='10234831'),\n",
       " line_item(invoice='32.12522-TE.003.08.02', testtype='PV Testing', cost=5294.8, desc=' Adjuster Durability', rco=' 929879', adient='10228261'),\n",
       " line_item(invoice='32.12522-TE.003.07.02', testtype='PV Testing', cost=2994.6, desc=' Child Restraint Anchorages', rco=' 929880', adient='10226107'),\n",
       " line_item(invoice='32.12522-TE.003.07.02', testtype='PV Testing', cost=700.54, desc=' Seat Anchorage Strength', rco=' 929885', adient='10234831-1'),\n",
       " line_item(invoice='32.12522-TE.003.07.02', testtype='PV Testing', cost=937.66, desc=' Seat Back Torsional Rigidity a', rco=' 929922', adient='10226118'),\n",
       " line_item(invoice='32.12522-TE.003.07.02', testtype='PV Testing', cost=885.24, desc=' Test of the Performance of the', rco=' 929923', adient='10227417'),\n",
       " line_item(invoice='32.00000-00.000.00.00', testtype='PV Testing', cost=1455.6, desc=' Seat System Forward Longitudin', rco=' 929930', adient='10235297'),\n",
       " line_item(invoice='32.12293-TE.003.01.02', testtype='PV Testing', cost=1204.79, desc=' Ingress / Egress / Jounce & Sq', rco=' 929945', adient='10224495-4'),\n",
       " line_item(invoice='32.12740-TE.003.02.02', testtype='PV Testing', cost=138.18, desc=' Seat Armrest Durability', rco=' 929950', adient='10218540-2'),\n",
       " line_item(invoice='32.12782-TE.003.01.02', testtype='PV Testing', cost=775.52, desc=' 7.6 Ingress/Egress Life cycle', rco=' 929964', adient='10236257')]"
      ]
     },
     "execution_count": 158,
     "metadata": {},
     "output_type": "execute_result"
    }
   ],
   "source": [
    "all_items['PV Testing']"
   ]
  },
  {
   "cell_type": "markdown",
   "metadata": {},
   "source": [
    "#### Give counts of the testtypes"
   ]
  },
  {
   "cell_type": "code",
   "execution_count": 163,
   "metadata": {},
   "outputs": [
    {
     "data": {
      "text/plain": [
       "[('PV Testing', 13), ('Other Product Tests', 9), ('DV Testing', 1)]"
      ]
     },
     "execution_count": 163,
     "metadata": {},
     "output_type": "execute_result"
    }
   ],
   "source": [
    "cnt = Counter()\n",
    "for testtype, jobs in all_items.items():\n",
    "    cnt[testtype] += len(jobs)\n",
    "    \n",
    "cnt.most_common()"
   ]
  },
  {
   "cell_type": "markdown",
   "metadata": {},
   "source": [
    "#### Give cost of a single line item by index PV Testing"
   ]
  },
  {
   "cell_type": "code",
   "execution_count": 162,
   "metadata": {},
   "outputs": [
    {
     "name": "stdout",
     "output_type": "stream",
     "text": [
      "716.17\n"
     ]
    }
   ],
   "source": [
    "onecost = getattr(all_items['PV Testing'][0], 'cost')\n",
    "print(onecost)"
   ]
  },
  {
   "cell_type": "markdown",
   "metadata": {},
   "source": [
    "#### Give the total cost of all items in PV Testing"
   ]
  },
  {
   "cell_type": "code",
   "execution_count": 161,
   "metadata": {},
   "outputs": [
    {
     "name": "stdout",
     "output_type": "stream",
     "text": [
      "21814.46\n"
     ]
    }
   ],
   "source": [
    "total = 0\n",
    "for i in all_items['PV Testing']:\n",
    "    total += getattr(i, 'cost')\n",
    "print(round(total, 2))"
   ]
  }
 ],
 "metadata": {
  "kernelspec": {
   "display_name": "Python 3",
   "language": "python",
   "name": "python3"
  },
  "language_info": {
   "codemirror_mode": {
    "name": "ipython",
    "version": 3
   },
   "file_extension": ".py",
   "mimetype": "text/x-python",
   "name": "python",
   "nbconvert_exporter": "python",
   "pygments_lexer": "ipython3",
   "version": "3.7.2"
  }
 },
 "nbformat": 4,
 "nbformat_minor": 2
}
